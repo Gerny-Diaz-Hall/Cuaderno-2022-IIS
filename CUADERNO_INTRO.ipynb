{
  "nbformat": 4,
  "nbformat_minor": 0,
  "metadata": {
    "colab": {
      "name": "CUADERNO INTRO",
      "provenance": [],
      "authorship_tag": "ABX9TyNnGei9L+viRPjfuBYqgT6S",
      "include_colab_link": true
    },
    "kernelspec": {
      "name": "python3",
      "display_name": "Python 3"
    },
    "language_info": {
      "name": "python"
    }
  },
  "cells": [
    {
      "cell_type": "markdown",
      "metadata": {
        "id": "view-in-github",
        "colab_type": "text"
      },
      "source": [
        "<a href=\"https://colab.research.google.com/github/Gerny-Diaz-Hall/Cuaderno-2022-IIS/blob/main/CUADERNO_INTRO.ipynb\" target=\"_parent\"><img src=\"https://colab.research.google.com/assets/colab-badge.svg\" alt=\"Open In Colab\"/></a>"
      ]
    },
    {
      "cell_type": "markdown",
      "source": [
        "# Semana 1 - Pseudocódigo"
      ],
      "metadata": {
        "id": "Qxeu-qQuWGcy"
      }
    },
    {
      "cell_type": "markdown",
      "source": [
        "##Contador de digitos\n",
        "\n",
        "Usando Pseint, crear un diagrama de flujo para representar el flujo y pseudocódigo para el algoritmo de contarDigitos.\n",
        "\n",
        "- recibirian dos parametros\n",
        "- ambos mayores a 0"
      ],
      "metadata": {
        "id": "DrvG7NvoWXMB"
      }
    },
    {
      "cell_type": "markdown",
      "source": [
        "### Diagrama de flujo"
      ],
      "metadata": {
        "id": "QpqXY7-cXOPP"
      }
    },
    {
      "cell_type": "markdown",
      "source": [
        "### Pseudocódigo\n",
        "\n"
      ],
      "metadata": {
        "id": "pmBhc9QgXhew"
      }
    }
  ]
}